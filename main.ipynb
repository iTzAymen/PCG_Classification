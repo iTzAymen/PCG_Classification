{
 "cells": [
  {
   "attachments": {},
   "cell_type": "markdown",
   "metadata": {},
   "source": [
    "# 1. Initialization"
   ]
  },
  {
   "attachments": {},
   "cell_type": "markdown",
   "metadata": {},
   "source": [
    "## Imports"
   ]
  },
  {
   "cell_type": "code",
   "execution_count": null,
   "metadata": {},
   "outputs": [],
   "source": [
    "import math, random\n",
    "\n",
    "import torch\n",
    "import torch.nn as nn\n",
    "from torch.nn import init, functional\n",
    "from torch.utils.data import DataLoader, Dataset, random_split\n",
    "import torchaudio\n",
    "from torchaudio import transforms\n",
    "\n",
    "import pandas as pd\n",
    "import numpy as np\n",
    "from IPython.display import Audio\n",
    "from matplotlib import pyplot as plt\n",
    "from os import walk"
   ]
  },
  {
   "cell_type": "code",
   "execution_count": null,
   "metadata": {},
   "outputs": [],
   "source": [
    "#To allow plotting pytorch tensors\n",
    "torch.Tensor.ndim = property(lambda self: len(self.shape))\n",
    "#use gpu if available\n",
    "device = torch.device(\"cuda:0\" if torch.cuda.is_available() else \"cpu\")"
   ]
  },
  {
   "attachments": {},
   "cell_type": "markdown",
   "metadata": {},
   "source": [
    "## Constants"
   ]
  },
  {
   "cell_type": "code",
   "execution_count": null,
   "metadata": {},
   "outputs": [],
   "source": [
    "MAX_AUDIO_LENGTH = 5000\n",
    "SAMPLING_RATE = 2000\n",
    "N_CHANNELS = 1\n",
    "SHIFT_PCT = 0.3\n",
    "MODEL_NAME = 'model_1'"
   ]
  },
  {
   "cell_type": "code",
   "execution_count": null,
   "metadata": {},
   "outputs": [],
   "source": [
    "num_epochs = 100"
   ]
  },
  {
   "attachments": {},
   "cell_type": "markdown",
   "metadata": {},
   "source": [
    "# 2. Audio Preprocessing Utilities"
   ]
  },
  {
   "attachments": {},
   "cell_type": "markdown",
   "metadata": {},
   "source": [
    "## AudioUtil Class\n",
    "A class that includes all the methods required to load and preprocess the audio files of the dataset"
   ]
  },
  {
   "cell_type": "code",
   "execution_count": null,
   "metadata": {},
   "outputs": [],
   "source": [
    "class AudioUtil():\n",
    "    @staticmethod\n",
    "    def open(audio_file):\n",
    "\n",
    "        #Open an audio file\n",
    "        # print(f\"Opening file : {audio_file}\")\n",
    "        sig, sr = torchaudio.load(audio_file)\n",
    "        sig.to(device)\n",
    "        return (sig, sr)\n",
    "    \n",
    "    @staticmethod\n",
    "    def print(aud, channel):\n",
    "\n",
    "        #Plot the audio signal wave\n",
    "\n",
    "        sig, sr = aud\n",
    "        duration = sig.shape[1]\n",
    "        time = torch.linspace(0, duration/sr, duration)\n",
    "\n",
    "        print(sig.shape)\n",
    "        print('Plotting...')\n",
    "\n",
    "        plt.figure(figsize=(15, 5))\n",
    "        plt.plot(time, sig[channel - 1])\n",
    "        plt.title('Audio Plot')\n",
    "        plt.ylabel(' signal wave')\n",
    "        plt.xlabel('time (s)')\n",
    "        plt.show()\n",
    "\n",
    "    @staticmethod\n",
    "    def display_spectrogram(spec, label='Audio mel spectrogram'):\n",
    "        \n",
    "        #Display the audio mel spectrogram\n",
    "\n",
    "        print(spec.shape)\n",
    "        print('Plotting...')\n",
    "        \n",
    "        plt.imshow(spec[0])\n",
    "        plt.title(label)\n",
    "        plt.ylabel('Frequency (mels)')\n",
    "        plt.xlabel('Time (ms)')\n",
    "        plt.colorbar(format='%+2.0f dB')\n",
    "\n",
    "        plt.show()\n",
    "\n",
    "    @staticmethod\n",
    "    def rechannel(aud, new_channel):\n",
    "\n",
    "        #Convert the audio from mono to stereo or vice versa\n",
    "\n",
    "        sig, sr = aud\n",
    "\n",
    "        if(sig.shape[0] == new_channel):\n",
    "            return aud\n",
    "        \n",
    "        # print('Rechanneling to ' + str(new_channel))\n",
    "        if(new_channel == 1):\n",
    "            resig = sig[:1, :]\n",
    "        else:\n",
    "            resig = torch.cat([sig, sig])\n",
    "        \n",
    "        return ((resig, sr))\n",
    "\n",
    "    @staticmethod\n",
    "    def resample(aud, newsr):\n",
    "\n",
    "        #Resample the audio to the newsr frequency\n",
    "\n",
    "        sig, sr = aud\n",
    "\n",
    "        if(sr == newsr):\n",
    "            return\n",
    "        \n",
    "        # print('Resampling to ' + str(newsr))\n",
    "\n",
    "        num_channels = sig.shape[0]\n",
    "        resig = torchaudio.transforms.Resample(sr, newsr)(sig[:1, :])\n",
    "        resig.to(device)\n",
    "\n",
    "        if(num_channels > 1):\n",
    "            retwo = torchaudio.transforms.Resample(sr, newsr)(sig[1:, :])\n",
    "            retwo.to(device)\n",
    "            resig = torch.cat([resig, retwo])\n",
    "\n",
    "        return((resig, newsr))\n",
    "\n",
    "    @staticmethod\n",
    "    def pad_trunc(aud, max_ms):\n",
    "\n",
    "        #add padding, or truncate the signal to fit the max length\n",
    "        sig, sr = aud\n",
    "        num_rows, sig_len = sig.shape\n",
    "        max_len = sr//1000 * max_ms\n",
    "\n",
    "        if(sig_len > max_len):\n",
    "            #Truncate the signal\n",
    "            # print('Truncating signal to ' + str(max_ms) + ' ms')\n",
    "            sig = sig[:, :max_len]\n",
    "        elif(sig_len < max_len):\n",
    "            #Add padding\n",
    "            # print('Padding signal to ' + str(max_ms) + ' ms')\n",
    "            pad_begin_len = random.randint(0, max_len - sig_len)\n",
    "            pad_end_len = max_len - sig_len - pad_begin_len\n",
    "\n",
    "            pad_begin = torch.zeros((num_rows, pad_begin_len))\n",
    "            pad_end = torch.zeros((num_rows, pad_end_len))\n",
    "\n",
    "            sig = torch.cat((pad_begin, sig, pad_end), 1)\n",
    "        \n",
    "        return ((sig, sr))\n",
    "\n",
    "    @staticmethod\n",
    "    def time_shift(aud, shift_limit):\n",
    "        sig, sr = aud\n",
    "        _, sig_len = sig.shape\n",
    "        shift_amt = int(random.random() * shift_limit * sig_len)\n",
    "        return (sig.roll(shift_amt), sr)\n",
    "\n",
    "    @staticmethod\n",
    "    def pitch_shift(aud, shift_limit):\n",
    "        sig, sr = aud\n",
    "        shift_amt = random.random() * shift_limit\n",
    "        return (sig * shift_amt, sr)\n",
    "\n",
    "    @staticmethod\n",
    "    def get_mel_spectrogram(aud, hop_length):\n",
    "        sig, sr = aud\n",
    "        top_db = 80\n",
    "\n",
    "        mel_transformation = torchaudio.transforms.MelSpectrogram(sample_rate=sr, n_fft=1024, hop_length=hop_length, n_mels=64)\n",
    "        db_transformation = torchaudio.transforms.AmplitudeToDB(top_db=top_db)\n",
    "        mel_transformation.to(device)\n",
    "        db_transformation.to(device)\n",
    "        spec = mel_transformation(sig.to(device))\n",
    "        spec = db_transformation(spec.to(device))\n",
    "        return spec\n",
    "\n",
    "    @staticmethod\n",
    "    def spectro_augment(spec, max_mask_pct = 0.1, n_freq_masks = 1, n_time_masks=1):\n",
    "        _, n_mels, n_steps = spec.shape\n",
    "        mask_value = spec.mean()\n",
    "        aug_spec = spec\n",
    "\n",
    "        freq_max_param = max_mask_pct * n_mels\n",
    "        for _ in range(n_freq_masks):\n",
    "            aug_spec = transforms.FrequencyMasking(freq_max_param).to(device)(aug_spec, mask_value)\n",
    "        time_mask_params = max_mask_pct * n_steps\n",
    "        for _ in range(n_time_masks):\n",
    "            aug_spec = transforms.TimeMasking(time_mask_params).to(device)(aug_spec, mask_value)\n",
    "\n",
    "        return aug_spec\n",
    "\n",
    "    @staticmethod\n",
    "    def get_MFCC(aud, hop_length=512):\n",
    "        sig, sr = aud\n",
    "        mfcc_fn = transforms.MFCC(  sample_rate=sr,\n",
    "                                    n_mfcc=64,\n",
    "                                    melkwargs={\"n_fft\": 1024, \"n_mels\": 64, \"hop_length\": hop_length})\n",
    "        mfcc_fn.to(device)\n",
    "        return mfcc_fn(sig.to(device))\n",
    "\n",
    "    @staticmethod\n",
    "    def plot_MFCC(mfcc, label=\"MFCC Features\"):\n",
    "        for i in range(mfcc.shape[1]):\n",
    "            sig = mfcc[0, i]\n",
    "            plt.plot(range(sig.shape[0]), sig, label=f\"MFCC {i}\")\n",
    "        plt.title(label)\n",
    "        plt.show()\n",
    "\n",
    "    @staticmethod\n",
    "    def preprocess_audio(audio_dir):\n",
    "        aud = AudioUtil.open(audio_dir)\n",
    "        aud = AudioUtil.rechannel(aud, N_CHANNELS)\n",
    "        aud = AudioUtil.resample(aud, SAMPLING_RATE)\n",
    "        aud = AudioUtil.pad_trunc(aud, MAX_AUDIO_LENGTH)\n",
    "        aud = AudioUtil.time_shift(aud, SHIFT_PCT)\n",
    "        aud = AudioUtil.pitch_shift(aud, SHIFT_PCT)\n",
    "        spec = AudioUtil.get_mel_spectrogram(aud, hop_length=512)\n",
    "        aug_spec = AudioUtil.spectro_augment(spec, n_freq_masks=2, n_time_masks=2)\n",
    "        mfcc = AudioUtil.get_MFCC(aud=aud)\n",
    "        # print(type(aud))\n",
    "        # print(type(spec))\n",
    "        # print(type(aug_spec))\n",
    "        # print(type(mfcc))\n",
    "        return (aud, spec, aug_spec, mfcc)"
   ]
  },
  {
   "attachments": {},
   "cell_type": "markdown",
   "metadata": {},
   "source": [
    "## Importing dataset"
   ]
  },
  {
   "cell_type": "code",
   "execution_count": null,
   "metadata": {},
   "outputs": [],
   "source": [
    "d = {'relative_path' : [], 'classID': [], 'file_name': []}\n",
    "class_weights = [0] * 4\n",
    "def fillPaths(path, classID):\n",
    "    for (dirpath, dirnames, filenames) in walk(path):\n",
    "        relative_path = map(lambda self: dirpath + '/' + self, filenames)\n",
    "        d['relative_path'].extend(relative_path)\n",
    "        temp = [classID] * len(filenames)\n",
    "        d['classID'].extend(temp)\n",
    "        d['file_name'].extend(filenames)\n",
    "        print(f\"{path} [{len(filenames)}]\")\n",
    "        class_weights[classID] = 1/len(filenames)\n",
    "        break\n",
    "\n",
    "fillPaths('Dataset/Atraining_extrahls', 3)\n",
    "fillPaths('Dataset/Atraining_murmur', 2)\n",
    "fillPaths('Dataset/Atraining_normal', 1)\n",
    "fillPaths('Dataset/Atraining_artifact', 0)\n",
    "\n",
    "df = pd.DataFrame(data=d)\n",
    "df = df[df.file_name != '.DS_Store']"
   ]
  },
  {
   "attachments": {},
   "cell_type": "markdown",
   "metadata": {},
   "source": [
    "## Sound Dataset class\n",
    "Used to return a randomly preprocessed audio each time by overriding the __getitem__ function"
   ]
  },
  {
   "cell_type": "code",
   "execution_count": null,
   "metadata": {},
   "outputs": [],
   "source": [
    "class SoundDS(Dataset):\n",
    "    # constructor\n",
    "    def __init__(self, df):\n",
    "        super().__init__()\n",
    "        self.df = df\n",
    "    \n",
    "    # get length of ds\n",
    "    def __len__(self):\n",
    "        return len(self.df)\n",
    "    \n",
    "    # get i'th item in dataset\n",
    "    def __getitem__(self, idx):\n",
    "        if isinstance(idx, slice):\n",
    "            d = []\n",
    "            start = 0 if idx.start == None else idx.start\n",
    "            stop = len(self.df) if idx.stop == None else idx.stop\n",
    "            for i in range(start,stop):\n",
    "                try:\n",
    "                    audio_file = self.df.iloc[i].relative_path\n",
    "                    class_id = self.df.iloc[i].classID\n",
    "                    _, _, aug_spec, mfcc = AudioUtil.preprocess_audio(audio_file)\n",
    "                    data = torch.cat(aug_spec, mfcc, dim=0)\n",
    "                    d.append([data, class_id])\n",
    "                except:\n",
    "                    print(f\"An exception occurred at {i}, file: {df.iloc[i].relative_path}\")\n",
    "\n",
    "            return d\n",
    "\n",
    "        audio_file = self.df.loc[idx, 'relative_path']\n",
    "        class_id = self.df.loc[idx, 'classID']\n",
    "\n",
    "        _, _, aug_spec, mfcc = AudioUtil.preprocess_audio(audio_file)\n",
    "        data = torch.cat([aug_spec, mfcc], dim=0)\n",
    "        return data, class_id"
   ]
  },
  {
   "attachments": {},
   "cell_type": "markdown",
   "metadata": {},
   "source": [
    "## Random split\n",
    "Split the dataset into an 80:20 ratio between training and validation sets"
   ]
  },
  {
   "cell_type": "code",
   "execution_count": null,
   "metadata": {},
   "outputs": [],
   "source": [
    "df = df.sample(frac=1).reset_index(drop=True) #shuffle data\n",
    "myds = SoundDS(df)\n",
    "\n",
    "num_items = len(myds)\n",
    "num_train = round(num_items * 0.8)\n",
    "num_val = num_items - num_train\n",
    "train_ds, val_ds = random_split(myds, [num_train, num_val])"
   ]
  },
  {
   "attachments": {},
   "cell_type": "markdown",
   "metadata": {},
   "source": [
    "## Data loaders\n",
    "Create training and validation data loaders"
   ]
  },
  {
   "cell_type": "code",
   "execution_count": null,
   "metadata": {},
   "outputs": [],
   "source": [
    "sample_weights = [0] * len(train_ds)\n",
    "for idx in range(len(train_ds)):\n",
    "    data = train_ds[idx]\n",
    "    \n",
    "    label = data[1].item()\n",
    "    class_weight = class_weights[label]\n",
    "    sample_weights[idx] = class_weight\n",
    "sampler = torch.utils.data.WeightedRandomSampler(sample_weights,\n",
    "                                                num_samples=len(sample_weights),\n",
    "                                                replacement=True)"
   ]
  },
  {
   "cell_type": "code",
   "execution_count": null,
   "metadata": {},
   "outputs": [],
   "source": [
    "train_dl = torch.utils.data.DataLoader(train_ds, batch_size = 16, sampler=sampler)\n",
    "# train_dl = torch.utils.data.DataLoader(train_ds, batch_size = 16, shuffle = True)\n",
    "val_dl = torch.utils.data.DataLoader(val_ds, batch_size = 16, shuffle = False)"
   ]
  },
  {
   "attachments": {},
   "cell_type": "markdown",
   "metadata": {},
   "source": [
    "# 3. Audio Classification Model"
   ]
  },
  {
   "attachments": {},
   "cell_type": "markdown",
   "metadata": {},
   "source": [
    "## Creating a model instance\n",
    "- Put it on the gpu if available\n",
    "- Import a model if you want to"
   ]
  },
  {
   "cell_type": "code",
   "execution_count": null,
   "metadata": {},
   "outputs": [],
   "source": [
    "from packages.CNN_1 import AudioClassifier\n",
    "myModel = AudioClassifier(input_dim=2*N_CHANNELS, output_dim=4)"
   ]
  },
  {
   "attachments": {},
   "cell_type": "markdown",
   "metadata": {},
   "source": [
    "## Creating save path"
   ]
  },
  {
   "cell_type": "code",
   "execution_count": null,
   "metadata": {},
   "outputs": [],
   "source": [
    "IMPORT = False  #Import model state_dict if available\n",
    "TEMP = False    #Import temp model state_dict if available\n",
    "\n",
    "from pathlib import Path\n",
    "MODEL_PATH = Path('models')\n",
    "MODEL_PATH.mkdir(parents=True, exist_ok=True)\n",
    "\n",
    "MODEL_NAME_PTH = MODEL_NAME + '.pth'\n",
    "MODEL_TEMP_NAME_PTH = MODEL_NAME + '_TEMP.pth'\n",
    "MODEL_SAVE_PATH = MODEL_PATH / MODEL_NAME_PTH\n",
    "MODEL_TEMP_SAVE_PATH = MODEL_PATH / MODEL_TEMP_NAME_PTH\n",
    "\n",
    "if IMPORT:\n",
    "    try:\n",
    "        myModel.load_state_dict(torch.load(f=MODEL_TEMP_SAVE_PATH if TEMP else MODEL_SAVE_PATH))\n",
    "    except:\n",
    "        print(MODEL_TEMP_SAVE_PATH if TEMP else MODEL_SAVE_PATH + 'not found.') "
   ]
  },
  {
   "cell_type": "code",
   "execution_count": null,
   "metadata": {},
   "outputs": [],
   "source": [
    "myModel = myModel.to(device)\n",
    "# Check that it is on cuda\n",
    "next(myModel.parameters()).device"
   ]
  },
  {
   "attachments": {},
   "cell_type": "markdown",
   "metadata": {},
   "source": [
    "# 4. Training Loop"
   ]
  },
  {
   "attachments": {},
   "cell_type": "markdown",
   "metadata": {},
   "source": [
    "## Training function"
   ]
  },
  {
   "cell_type": "code",
   "execution_count": null,
   "metadata": {},
   "outputs": [],
   "source": [
    "def training(model, train_dl, num_epochs, test_dl):\n",
    "    # Loss function, Optimizer and Scheduler\n",
    "    loss_fn = nn.CrossEntropyLoss() #weight=torch.tensor([1.21, 1.56, 1.42, 2.63])\n",
    "    optimizer = torch.optim.Adam(model.parameters(), lr=0.001)\n",
    "    scheduler = torch.optim.lr_scheduler.OneCycleLR(optimizer, max_lr=0.001, steps_per_epoch=int(len(train_dl)), epochs=num_epochs, anneal_strategy='linear')\n",
    "\n",
    "    # Repeat for each epoch\n",
    "    for epoch in range(num_epochs):\n",
    "        running_loss = 0.0\n",
    "        correct_prediction = 0\n",
    "        total_prediction = 0\n",
    "        # Repeat for each batch in the training set\n",
    "        for i, data in enumerate(train_dl):\n",
    "            # Get the input features and target labels and put them on the GPU\n",
    "            inputs, labels = data[0].to(device), data[1].to(device)\n",
    "            # Normalize the inputs\n",
    "            inputs_m, inputs_s = inputs.mean(), inputs.std()\n",
    "            inputs = (inputs - inputs_m) / inputs_s\n",
    "\n",
    "            optimizer.zero_grad()\n",
    "\n",
    "            # forward + backward + optimize\n",
    "            model.train()\n",
    "            outputs = model(inputs)\n",
    "            loss = loss_fn(outputs, labels)\n",
    "            loss.backward()\n",
    "            optimizer.step()\n",
    "            scheduler.step()\n",
    "\n",
    "            #keep stats for loss and accuracy\n",
    "            running_loss += loss.item()\n",
    "\n",
    "            # get the predicted class with the highest score\n",
    "            _, prediction = torch.max(outputs, 1)\n",
    "            # count of predictions that matched the target label\n",
    "            correct_prediction += (prediction == labels).sum().item()\n",
    "            total_prediction += prediction.shape[0]\n",
    "\n",
    "            # test preds\n",
    "            model.eval()\n",
    "            test_correct_prediction = 0\n",
    "            test_total_prediction = 0\n",
    "            with torch.inference_mode():\n",
    "                for j, test_data in enumerate(test_dl):\n",
    "                    test_inputs, test_labels = test_data[0].to(device), test_data[1].to(device)\n",
    "                    # Normalize the inputs\n",
    "                    test_inputs_m, test_inputs_s = test_inputs.mean(), test_inputs.std()\n",
    "                    test_inputs = (test_inputs - test_inputs_m) / test_inputs_s\n",
    "                    test_outputs = model(test_inputs)\n",
    "                    _, test_prediction = torch.max(test_outputs, 1)\n",
    "                    # count of predictions that matched the target label\n",
    "                    test_correct_prediction += (test_prediction == test_labels).sum().item()\n",
    "                    test_total_prediction += test_prediction.shape[0]\n",
    "        \n",
    "        # Print stats at the end of the epoch\n",
    "        num_batches = len(train_dl)\n",
    "        avg_loss = running_loss / num_batches\n",
    "        acc = correct_prediction / total_prediction\n",
    "        test_acc = test_correct_prediction / test_total_prediction\n",
    "        if epoch % 10 == 0:\n",
    "            print(f'Epoch: {epoch}, Loss: {avg_loss:.2f}, Accuracy: {acc:.2f}, Test Accuracy: {test_acc:.2f}')\n",
    "        if epoch % 1000 == 0:\n",
    "            print(f\"Saving model to {MODEL_TEMP_SAVE_PATH}\")\n",
    "            torch.save(obj=myModel.state_dict(), f=MODEL_TEMP_SAVE_PATH)\n",
    "    \n",
    "    print('Finished Training')"
   ]
  },
  {
   "attachments": {},
   "cell_type": "markdown",
   "metadata": {},
   "source": [
    "## Start training"
   ]
  },
  {
   "cell_type": "code",
   "execution_count": null,
   "metadata": {},
   "outputs": [],
   "source": [
    "training(myModel, train_dl, num_epochs, test_dl=val_dl)"
   ]
  },
  {
   "attachments": {},
   "cell_type": "markdown",
   "metadata": {},
   "source": [
    "Save the model after the training is complete"
   ]
  },
  {
   "cell_type": "code",
   "execution_count": null,
   "metadata": {},
   "outputs": [],
   "source": [
    "print(f\"Saving model to {MODEL_SAVE_PATH}\")\n",
    "torch.save(obj=myModel.state_dict(), f=MODEL_SAVE_PATH)"
   ]
  },
  {
   "attachments": {},
   "cell_type": "markdown",
   "metadata": {},
   "source": [
    "# 5. Inference\n",
    "Run inference on the trained model with the validation set"
   ]
  },
  {
   "cell_type": "code",
   "execution_count": null,
   "metadata": {},
   "outputs": [],
   "source": [
    "def inference(model, val_dl):\n",
    "    correct_prediction = 0\n",
    "    total_prediction = 0\n",
    "\n",
    "    with torch.inference_mode():\n",
    "        for data in val_dl:\n",
    "            inputs, labels = data[0].to(device), data[1].to(device)\n",
    "\n",
    "            inputs_m, inputs_s = inputs.mean(), inputs.std()\n",
    "            inputs = (inputs - inputs_m) / inputs_s\n",
    "\n",
    "            outputs = model(inputs)\n",
    "\n",
    "            _, prediction = torch.max(outputs, 1)\n",
    "\n",
    "            correct_prediction += (prediction == labels).sum().item()\n",
    "            total_prediction += prediction.shape[0]\n",
    "        acc = correct_prediction / total_prediction\n",
    "        print(f'Accuracy: {acc:.2f}, Total items: {total_prediction}')"
   ]
  },
  {
   "cell_type": "code",
   "execution_count": null,
   "metadata": {},
   "outputs": [],
   "source": [
    "inference(myModel, val_dl)"
   ]
  },
  {
   "attachments": {},
   "cell_type": "markdown",
   "metadata": {},
   "source": [
    "# 6. Testing"
   ]
  },
  {
   "cell_type": "code",
   "execution_count": null,
   "metadata": {},
   "outputs": [],
   "source": [
    "def testing(model, data):\n",
    "    model.eval()\n",
    "    with torch.inference_mode():\n",
    "        input = torch.tensor(data[0].unsqueeze(dim=0)).to(device)\n",
    "        label = torch.tensor(data[1]).to(device)\n",
    "        inputs_m, inputs_s = input.mean(), input.std()\n",
    "        input = (input - inputs_m) / inputs_s\n",
    "        output = model(input)\n",
    "        _, prediction = torch.max(output,1)\n",
    "        print(f\"{prediction[0].item()} <--> {label}\")\n",
    "\n",
    "# print(df[(df.index > num_train) & (df.index < num_train + len(val_ds))])\n",
    "print(f\"predicted <--> actual\")\n",
    "for i in range(len(val_ds)):\n",
    "    testing(myModel, val_ds[i])"
   ]
  }
 ],
 "metadata": {
  "kernelspec": {
   "display_name": ".env",
   "language": "python",
   "name": "python3"
  },
  "language_info": {
   "codemirror_mode": {
    "name": "ipython",
    "version": 3
   },
   "file_extension": ".py",
   "mimetype": "text/x-python",
   "name": "python",
   "nbconvert_exporter": "python",
   "pygments_lexer": "ipython3",
   "version": "3.10.9"
  },
  "orig_nbformat": 4,
  "vscode": {
   "interpreter": {
    "hash": "271ef12c205d22d2551616f6376eb113757b39b893deaf5ea51499688d3d17c1"
   }
  }
 },
 "nbformat": 4,
 "nbformat_minor": 2
}
